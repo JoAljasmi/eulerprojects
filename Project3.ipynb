{
 "cells": [
  {
   "cell_type": "code",
   "execution_count": 2,
   "id": "initial_id",
   "metadata": {
    "collapsed": true,
    "ExecuteTime": {
     "end_time": "2023-10-25T22:18:13.285162800Z",
     "start_time": "2023-10-25T22:13:07.852809400Z"
    }
   },
   "outputs": [
    {
     "ename": "KeyboardInterrupt",
     "evalue": "",
     "output_type": "error",
     "traceback": [
      "\u001B[1;31m---------------------------------------------------------------------------\u001B[0m",
      "\u001B[1;31mKeyboardInterrupt\u001B[0m                         Traceback (most recent call last)",
      "Cell \u001B[1;32mIn[2], line 15\u001B[0m\n\u001B[0;32m     10\u001B[0m             \u001B[38;5;28;01mcontinue\u001B[39;00m\n\u001B[0;32m     13\u001B[0m     \u001B[38;5;28mprint\u001B[39m(b)\n\u001B[1;32m---> 15\u001B[0m \u001B[43mprimefactor\u001B[49m\u001B[43m(\u001B[49m\u001B[43mn\u001B[49m\u001B[43m)\u001B[49m\n",
      "Cell \u001B[1;32mIn[2], line 10\u001B[0m, in \u001B[0;36mprimefactor\u001B[1;34m(x)\u001B[0m\n\u001B[0;32m      8\u001B[0m         x \u001B[38;5;241m=\u001B[39m x \u001B[38;5;241m/\u001B[39m\u001B[38;5;241m/\u001B[39m i\n\u001B[0;32m      9\u001B[0m     \u001B[38;5;28;01melse\u001B[39;00m:\n\u001B[1;32m---> 10\u001B[0m         \u001B[38;5;28;01mcontinue\u001B[39;00m\n\u001B[0;32m     13\u001B[0m \u001B[38;5;28mprint\u001B[39m(b)\n",
      "\u001B[1;31mKeyboardInterrupt\u001B[0m: "
     ]
    }
   ],
   "source": [
    "from math import sqrt\n",
    "n = 600851475143\n",
    "def primefactor(x):\n",
    "    numlist = []\n",
    "    for i in range(2, x + 1):\n",
    "        if x % i == 0:\n",
    "            b = i \n",
    "            x = x // i\n",
    "        else:\n",
    "            continue\n",
    "        \n",
    "          \n",
    "    print(b)\n",
    "\n",
    "primefactor(n)"
   ]
  },
  {
   "cell_type": "code",
   "execution_count": null,
   "outputs": [],
   "source": [],
   "metadata": {
    "collapsed": false
   },
   "id": "9572f7d3a2cb331d"
  },
  {
   "cell_type": "code",
   "execution_count": 3,
   "outputs": [
    {
     "name": "stdout",
     "output_type": "stream",
     "text": [
      "The largest prime factor of 600851475143 is: 6857\n"
     ]
    }
   ],
   "source": [
    "def largest_prime_factor(n):\n",
    "    i = 2\n",
    "    largest_prime = 0\n",
    "\n",
    "    while i * i <= n:\n",
    "        if n % i:\n",
    "            i += 1\n",
    "        else:\n",
    "            n //= i\n",
    "            largest_prime = i\n",
    "\n",
    "    if n > 1:\n",
    "        largest_prime = n\n",
    "\n",
    "    return largest_prime\n",
    "\n",
    "number = 600851475143\n",
    "result = largest_prime_factor(number)\n",
    "print(\"The largest prime factor of\", number, \"is:\", result)"
   ],
   "metadata": {
    "collapsed": false,
    "ExecuteTime": {
     "end_time": "2023-10-25T22:18:14.759107400Z",
     "start_time": "2023-10-25T22:18:14.749605800Z"
    }
   },
   "id": "193cc50924d2d3f0"
  },
  {
   "cell_type": "code",
   "execution_count": null,
   "outputs": [],
   "source": [],
   "metadata": {
    "collapsed": false
   },
   "id": "3fd9d1ebcc4e23d4"
  }
 ],
 "metadata": {
  "kernelspec": {
   "display_name": "Python 3",
   "language": "python",
   "name": "python3"
  },
  "language_info": {
   "codemirror_mode": {
    "name": "ipython",
    "version": 2
   },
   "file_extension": ".py",
   "mimetype": "text/x-python",
   "name": "python",
   "nbconvert_exporter": "python",
   "pygments_lexer": "ipython2",
   "version": "2.7.6"
  }
 },
 "nbformat": 4,
 "nbformat_minor": 5
}
